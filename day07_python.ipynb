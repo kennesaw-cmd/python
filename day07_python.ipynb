{
 "cells": [
  {
   "cell_type": "markdown",
   "metadata": {},
   "source": [
    "### Problem"
   ]
  },
  {
   "cell_type": "code",
   "execution_count": 3,
   "metadata": {},
   "outputs": [
    {
     "name": "stdout",
     "output_type": "stream",
     "text": [
      "My name is John and I am 25 years old.\n"
     ]
    }
   ],
   "source": [
    "name = 'John'\n",
    "age = 25\n",
    "\n",
    "print('My name is ' + name + ' and I am ' + str(age) + ' years old.')\n",
    "\n",
    "# My name is John and I am 25 years old."
   ]
  },
  {
   "cell_type": "markdown",
   "metadata": {},
   "source": [
    "# f string\n",
    "\n",
    "- Provides an easier, cleaner and more readable way to embed variables directly inside strings. \n",
    "- It allows you to place {} in a string, and inside them, you can directly put the variables you want to display.\n",
    "- You just need to prefix the string with an f at the start."
   ]
  },
  {
   "cell_type": "code",
   "execution_count": 4,
   "metadata": {},
   "outputs": [
    {
     "name": "stdout",
     "output_type": "stream",
     "text": [
      "My name is John and I am 25 years old.\n"
     ]
    }
   ],
   "source": [
    "name = 'John'\n",
    "age = 25\n",
    "\n",
    "print(f\"My name is {name} and I am {age} years old.\")"
   ]
  },
  {
   "cell_type": "code",
   "execution_count": 6,
   "metadata": {},
   "outputs": [
    {
     "name": "stdout",
     "output_type": "stream",
     "text": [
      "The 10 pineapples are sold for 30 dollars.\n"
     ]
    }
   ],
   "source": [
    "price = 3\n",
    "quantity = 10\n",
    "\n",
    "print(f\"The {quantity} pineapples are sold for {price * quantity} dollars.\")\n",
    "\n",
    "# The 10 pineapple are sold for 30 dollars."
   ]
  },
  {
   "cell_type": "markdown",
   "metadata": {},
   "source": [
    "# random Module"
   ]
  },
  {
   "cell_type": "markdown",
   "metadata": {},
   "source": [
    "- To generate random numbers \n",
    "- To choose random values."
   ]
  },
  {
   "cell_type": "markdown",
   "metadata": {},
   "source": [
    "### To generate random numbers"
   ]
  },
  {
   "cell_type": "markdown",
   "metadata": {},
   "source": [
    "- Returns a random integer between a and b, inclusive."
   ]
  },
  {
   "cell_type": "code",
   "execution_count": 13,
   "metadata": {},
   "outputs": [
    {
     "name": "stdout",
     "output_type": "stream",
     "text": [
      "677\n"
     ]
    }
   ],
   "source": [
    "import random\n",
    "\n",
    "whole_no = random.randint(100, 1000)\n",
    "print(whole_no)"
   ]
  },
  {
   "cell_type": "markdown",
   "metadata": {},
   "source": [
    "- Generate a random decimal no between a and b"
   ]
  },
  {
   "cell_type": "code",
   "execution_count": 17,
   "metadata": {},
   "outputs": [
    {
     "name": "stdout",
     "output_type": "stream",
     "text": [
      "4.977526394798608\n"
     ]
    }
   ],
   "source": [
    "decimal_no = random.uniform(1, 100)\n",
    "print(decimal_no)"
   ]
  },
  {
   "cell_type": "markdown",
   "metadata": {},
   "source": [
    "- Real World Example: Rolling a dice in Ludo Star"
   ]
  },
  {
   "cell_type": "code",
   "execution_count": 20,
   "metadata": {},
   "outputs": [
    {
     "name": "stdout",
     "output_type": "stream",
     "text": [
      "You rolled a 5\n"
     ]
    }
   ],
   "source": [
    "dice_roll = random.randint(1, 6)\n",
    "\n",
    "print(f\"You rolled a {dice_roll}\")"
   ]
  },
  {
   "cell_type": "markdown",
   "metadata": {},
   "source": [
    "### Choose Random Values"
   ]
  },
  {
   "cell_type": "markdown",
   "metadata": {},
   "source": [
    "- Chooses a random element from a given sequence such as a list."
   ]
  },
  {
   "cell_type": "code",
   "execution_count": 25,
   "metadata": {},
   "outputs": [
    {
     "name": "stdout",
     "output_type": "stream",
     "text": [
      "apple\n"
     ]
    }
   ],
   "source": [
    "fruits = ['apple', 'banana', 'cherry', 'pineapple', 'mango']\n",
    "\n",
    "random_fruit = random.choice(fruits)\n",
    "\n",
    "print(random_fruit)"
   ]
  },
  {
   "cell_type": "markdown",
   "metadata": {},
   "source": [
    "- Returns a random sample of n elements from a sequence, without repeating values."
   ]
  },
  {
   "cell_type": "code",
   "execution_count": 29,
   "metadata": {},
   "outputs": [
    {
     "name": "stdout",
     "output_type": "stream",
     "text": [
      "['cherry', 'banana', 'mango']\n"
     ]
    }
   ],
   "source": [
    "fruits = ['apple', 'banana', 'cherry', 'pineapple', 'mango']\n",
    "\n",
    "random_n_fruits = random.sample(fruits, 3)\n",
    "\n",
    "print(random_n_fruits)"
   ]
  },
  {
   "cell_type": "markdown",
   "metadata": {},
   "source": [
    "- Shuffles or you can randomly rearrange the elements of a list"
   ]
  },
  {
   "cell_type": "code",
   "execution_count": 31,
   "metadata": {},
   "outputs": [
    {
     "name": "stdout",
     "output_type": "stream",
     "text": [
      "[2, 1, 4, 3, 5]\n"
     ]
    }
   ],
   "source": [
    "numbers = [1, 2, 3, 4, 5]\n",
    "\n",
    "random.shuffle(numbers)\n",
    "\n",
    "print(numbers)"
   ]
  },
  {
   "cell_type": "markdown",
   "metadata": {},
   "source": [
    "- Real World Example: Simulate Card Shuffle"
   ]
  },
  {
   "cell_type": "code",
   "execution_count": 37,
   "metadata": {},
   "outputs": [
    {
     "name": "stdout",
     "output_type": "stream",
     "text": [
      "[8, 'King', 9, 'Ace', 6, 'Jack', 7, 5, 3, 'Queen', 2, 1, 4]\n"
     ]
    }
   ],
   "source": [
    "cards = [1, 2, 3, 4, 5, 6, 7, 8, 9, 'Ace', 'King', 'Queen', 'Jack']\n",
    "\n",
    "random.shuffle(cards)\n",
    "\n",
    "print(cards)"
   ]
  },
  {
   "cell_type": "markdown",
   "metadata": {},
   "source": [
    "- Real World Example:  Conducting Online Quiz"
   ]
  },
  {
   "cell_type": "code",
   "execution_count": 39,
   "metadata": {},
   "outputs": [],
   "source": [
    "quiz = [\n",
    "    'What is capital of France?',\n",
    "    'President of India?',\n",
    "    'Longest river in the world?',\n",
    "    'Speed of Light?',\n",
    "    'Wealthiest person in the world?'\n",
    "]\n",
    "\n"
   ]
  },
  {
   "cell_type": "code",
   "execution_count": 40,
   "metadata": {},
   "outputs": [
    {
     "name": "stdout",
     "output_type": "stream",
     "text": [
      "['Speed of Light?', 'Longest river in the world?', 'President of India?', 'What is capital of France?', 'Wealthiest person in the world?']\n"
     ]
    }
   ],
   "source": [
    "# Student 1:\n",
    "\n",
    "random.shuffle(quiz)\n",
    "print(quiz)"
   ]
  },
  {
   "cell_type": "code",
   "execution_count": 41,
   "metadata": {},
   "outputs": [
    {
     "name": "stdout",
     "output_type": "stream",
     "text": [
      "['Wealthiest person in the world?', 'What is capital of France?', 'President of India?', 'Speed of Light?', 'Longest river in the world?']\n"
     ]
    }
   ],
   "source": [
    "# Student 2:\n",
    "\n",
    "random.shuffle(quiz)\n",
    "print(quiz)"
   ]
  },
  {
   "cell_type": "code",
   "execution_count": 42,
   "metadata": {},
   "outputs": [
    {
     "name": "stdout",
     "output_type": "stream",
     "text": [
      "['Wealthiest person in the world?', 'Speed of Light?', 'President of India?']\n"
     ]
    }
   ],
   "source": [
    "quiz = [\n",
    "    'What is capital of France?',\n",
    "    'President of India?',\n",
    "    'Longest river in the world?',\n",
    "    'Speed of Light?',\n",
    "    'Wealthiest person in the world?'\n",
    "]\n",
    "\n",
    "n_quiz = random.sample(quiz, 3)\n",
    "print(n_quiz)"
   ]
  },
  {
   "cell_type": "markdown",
   "metadata": {},
   "source": [
    "##Day 07\n",
    "1. Write a program that generates a random password of 8 characters using letters, digits, and special characters. (Hint: Use random.choice() with a string containing all the valid characters.)\n",
    "\n",
    "\n",
    "2. Use the random.sample() function to select 3 random items from the following list: [\"Red\", \"Green\", \"Blue\", \"Yellow\", \"Black\", \"White\"]. Print the selected items.\n",
    "\n",
    "\n",
    "3. Simulate rolling two dice by generating two random integers between 1 and 6. Add the results together and print the total\n",
    "\n",
    "\n",
    "4. A restaurant offers the following cuisines: [\"Italian\", \"Chinese\", \"Mexican\", \"Indian\"]. Use random.choice() to randomly suggest a cuisine for a customer."
   ]
  },
  {
   "cell_type": "code",
   "execution_count": 78,
   "metadata": {},
   "outputs": [
    {
     "name": "stdout",
     "output_type": "stream",
     "text": [
      "Random password is: uXo`pn{5\n"
     ]
    }
   ],
   "source": [
    "##01\n",
    "import random\n",
    "import string\n",
    "# get random password of length 8 with letters, digits, and symbols\n",
    "characters = string.ascii_letters + string.digits + string.punctuation\n",
    "password = ''.join(random.choice(characters) for i in range(8))\n",
    "print(\"Random password is:\", password)"
   ]
  },
  {
   "cell_type": "code",
   "execution_count": null,
   "metadata": {},
   "outputs": [
    {
     "name": "stdout",
     "output_type": "stream",
     "text": [
      "['Red', 'Black', 'Yellow']\n"
     ]
    }
   ],
   "source": [
    "#02\n",
    "import random\n",
    "\n",
    "L1=[\"Red\", \"Green\", \"Blue\", \"Yellow\", \"Black\", \"White\"]\n",
    "print(random.sample(L1,3)) ##by using sample(variablefuncation_name,no of elements you want to generate) method we can get random values from a set of items in a list."
   ]
  },
  {
   "cell_type": "code",
   "execution_count": 13,
   "metadata": {},
   "outputs": [
    {
     "name": "stdout",
     "output_type": "stream",
     "text": [
      "You rolled a 11\n"
     ]
    }
   ],
   "source": [
    "#03\n",
    "dice_roll1 = random.randint(1, 6)\n",
    "dice_roll2 = random.randint(1,6)\n",
    "print(f\"You rolled a {(dice_roll1) + (dice_roll2)}\") #adding the dice roll of 1 and 2 and getting total as an output.\n"
   ]
  },
  {
   "cell_type": "code",
   "execution_count": 25,
   "metadata": {},
   "outputs": [
    {
     "data": {
      "text/plain": [
       "'Chinese'"
      ]
     },
     "execution_count": 25,
     "metadata": {},
     "output_type": "execute_result"
    }
   ],
   "source": [
    "#04\n",
    "cuisines = [\"Italian\", \"Chinese\", \"Mexican\", \"Indian\"]\n",
    "random.choice(cuisines) #by using choice method() it randomly chooses different cuisines."
   ]
  }
 ],
 "metadata": {
  "kernelspec": {
   "display_name": "Python 3",
   "language": "python",
   "name": "python3"
  },
  "language_info": {
   "codemirror_mode": {
    "name": "ipython",
    "version": 3
   },
   "file_extension": ".py",
   "mimetype": "text/x-python",
   "name": "python",
   "nbconvert_exporter": "python",
   "pygments_lexer": "ipython3",
   "version": "3.11.5"
  }
 },
 "nbformat": 4,
 "nbformat_minor": 2
}
