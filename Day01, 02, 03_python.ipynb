{
 "cells": [
  {
   "cell_type": "markdown",
   "metadata": {},
   "source": [
    "# Print function"
   ]
  },
  {
   "cell_type": "code",
   "execution_count": 1,
   "metadata": {},
   "outputs": [
    {
     "name": "stdout",
     "output_type": "stream",
     "text": [
      "Data Analyst\n"
     ]
    }
   ],
   "source": [
    "print('Data Analyst')"
   ]
  },
  {
   "cell_type": "markdown",
   "metadata": {},
   "source": [
    "# What are Data Types?"
   ]
  },
  {
   "cell_type": "markdown",
   "metadata": {},
   "source": [
    "Data types tells Python what kind of data we are working with."
   ]
  },
  {
   "cell_type": "markdown",
   "metadata": {},
   "source": [
    "- Integer: Whole numbers (5, 10, 100, 0, -300, -1)\n",
    "- Float: Decimal numbers (10.5, 4.4, 3.147, -0.001)\n",
    "- String: Sequence or Combination of Characters, and they are always enclosed in quotes ('Hello', 'World', '3.02', \"Hi\")\n",
    "- Boolean: True or False values"
   ]
  },
  {
   "cell_type": "markdown",
   "metadata": {},
   "source": [
    "# Variables"
   ]
  },
  {
   "cell_type": "markdown",
   "metadata": {},
   "source": [
    "A variable is like a box where you can store data."
   ]
  },
  {
   "cell_type": "code",
   "execution_count": 2,
   "metadata": {},
   "outputs": [
    {
     "name": "stdout",
     "output_type": "stream",
     "text": [
      "Uzair\n"
     ]
    }
   ],
   "source": [
    "first_name = 'Uzair'\n",
    "print(first_name)"
   ]
  },
  {
   "cell_type": "markdown",
   "metadata": {},
   "source": [
    "- Checking data type"
   ]
  },
  {
   "cell_type": "code",
   "execution_count": 4,
   "metadata": {},
   "outputs": [
    {
     "name": "stdout",
     "output_type": "stream",
     "text": [
      "<class 'int'>\n",
      "<class 'float'>\n",
      "<class 'str'>\n",
      "<class 'bool'>\n"
     ]
    }
   ],
   "source": [
    "marks = 100\n",
    "height = 5.11\n",
    "first_name = 'Uzair'\n",
    "is_happy = True\n",
    "\n",
    "print(type(marks))\n",
    "print(type(height))\n",
    "print(type(first_name))\n",
    "print(type(is_happy))"
   ]
  },
  {
   "cell_type": "markdown",
   "metadata": {},
   "source": [
    "# Basic Operations"
   ]
  },
  {
   "cell_type": "markdown",
   "metadata": {},
   "source": [
    "- Addition (+)\n",
    "- Subtraction -\n",
    "- Multiplication *\n",
    "- Division /"
   ]
  },
  {
   "cell_type": "code",
   "execution_count": 6,
   "metadata": {},
   "outputs": [
    {
     "name": "stdout",
     "output_type": "stream",
     "text": [
      "5.0\n"
     ]
    }
   ],
   "source": [
    "print(15/3)"
   ]
  },
  {
   "cell_type": "markdown",
   "metadata": {},
   "source": [
    "# Input from Users"
   ]
  },
  {
   "cell_type": "code",
   "execution_count": 15,
   "metadata": {},
   "outputs": [
    {
     "name": "stdout",
     "output_type": "stream",
     "text": [
      "26\n"
     ]
    }
   ],
   "source": [
    "age = input(\"Enter you age please:\")\n",
    "print(age)"
   ]
  },
  {
   "cell_type": "markdown",
   "metadata": {},
   "source": [
    "# Introduction to String"
   ]
  },
  {
   "cell_type": "markdown",
   "metadata": {},
   "source": [
    "- Accessing Character in a String (Indexing)"
   ]
  },
  {
   "cell_type": "code",
   "execution_count": 9,
   "metadata": {},
   "outputs": [
    {
     "name": "stdout",
     "output_type": "stream",
     "text": [
      "t\n"
     ]
    }
   ],
   "source": [
    "first_name = 'Rohit'  # The first character is at index 0, second char is at index 1 and so on.\n",
    "print(first_name[0])"
   ]
  },
  {
   "cell_type": "code",
   "execution_count": 11,
   "metadata": {},
   "outputs": [
    {
     "name": "stdout",
     "output_type": "stream",
     "text": [
      "v\n"
     ]
    }
   ],
   "source": [
    "first_name = 'Rohittttttttttttttttttttttttttttttttttttttttttfgfbfvfbgvf'  \n",
    "print(first_name[-2])"
   ]
  },
  {
   "cell_type": "code",
   "execution_count": 13,
   "metadata": {},
   "outputs": [
    {
     "name": "stdout",
     "output_type": "stream",
     "text": [
      "t\n"
     ]
    }
   ],
   "source": [
    "name = 'Rohit Sharma'\n",
    "print(name[5])"
   ]
  },
  {
   "cell_type": "markdown",
   "metadata": {},
   "source": [
    "- Slicing\n",
    "\n",
    "Allow us to extract part of a string. You have to specify start and end index and Python will return the substring."
   ]
  },
  {
   "cell_type": "code",
   "execution_count": 16,
   "metadata": {},
   "outputs": [
    {
     "name": "stdout",
     "output_type": "stream",
     "text": [
      "Rohit\n"
     ]
    }
   ],
   "source": [
    "name = 'Rohit Sharma'\n",
    "print(name[0:5])"
   ]
  },
  {
   "cell_type": "code",
   "execution_count": 18,
   "metadata": {},
   "outputs": [
    {
     "name": "stdout",
     "output_type": "stream",
     "text": [
      "Sharma\n"
     ]
    }
   ],
   "source": [
    "name = 'Rohit Sharma'\n",
    "print(name[6:])"
   ]
  },
  {
   "cell_type": "code",
   "execution_count": 19,
   "metadata": {},
   "outputs": [
    {
     "name": "stdout",
     "output_type": "stream",
     "text": [
      "Rohit\n"
     ]
    }
   ],
   "source": [
    "name = 'Rohit Sharma'\n",
    "print(name[:5])"
   ]
  },
  {
   "cell_type": "markdown",
   "metadata": {},
   "source": [
    "String Methods"
   ]
  },
  {
   "cell_type": "markdown",
   "metadata": {},
   "source": [
    "1) lower()"
   ]
  },
  {
   "cell_type": "code",
   "execution_count": 20,
   "metadata": {},
   "outputs": [
    {
     "name": "stdout",
     "output_type": "stream",
     "text": [
      "hello\n"
     ]
    }
   ],
   "source": [
    "greeting = 'HELLO'   # convert it into lowercase 'hello' \n",
    "print(greeting.lower())"
   ]
  },
  {
   "cell_type": "markdown",
   "metadata": {},
   "source": [
    "2. upper"
   ]
  },
  {
   "cell_type": "code",
   "execution_count": 21,
   "metadata": {},
   "outputs": [
    {
     "name": "stdout",
     "output_type": "stream",
     "text": [
      "ROHIT\n"
     ]
    }
   ],
   "source": [
    "first_name = 'rohit'  # convert it into uppercase 'ROHIT' \n",
    "print(first_name.upper())"
   ]
  },
  {
   "cell_type": "markdown",
   "metadata": {},
   "source": [
    "3) strip()"
   ]
  },
  {
   "cell_type": "markdown",
   "metadata": {},
   "source": [
    "It remove any unwanted space at the beginning and ending of a string."
   ]
  },
  {
   "cell_type": "code",
   "execution_count": 2,
   "metadata": {},
   "outputs": [
    {
     "name": "stdout",
     "output_type": "stream",
     "text": [
      "    Pyt   hon    \n",
      "Pyt   hon\n"
     ]
    }
   ],
   "source": [
    "text = '    Python    '\n",
    "print(text)\n",
    "print(text.strip())"
   ]
  },
  {
   "cell_type": "markdown",
   "metadata": {},
   "source": [
    "4. len"
   ]
  },
  {
   "cell_type": "code",
   "execution_count": 27,
   "metadata": {},
   "outputs": [
    {
     "name": "stdout",
     "output_type": "stream",
     "text": [
      "49\n"
     ]
    }
   ],
   "source": [
    "text = 'Pythonnnnnnnnnnnnnnnnnnnnnnnnnnnnnnnnnnnnnnnnnnnn'\n",
    "print(len(text))"
   ]
  },
  {
   "cell_type": "markdown",
   "metadata": {},
   "source": [
    "5. count"
   ]
  },
  {
   "cell_type": "code",
   "execution_count": 30,
   "metadata": {},
   "outputs": [
    {
     "name": "stdout",
     "output_type": "stream",
     "text": [
      "2\n"
     ]
    }
   ],
   "source": [
    "fruit = 'bananaba'\n",
    "print(fruit.count('ba'))"
   ]
  },
  {
   "cell_type": "code",
   "execution_count": 1,
   "metadata": {},
   "outputs": [
    {
     "name": "stdout",
     "output_type": "stream",
     "text": [
      "hello, world!\n"
     ]
    }
   ],
   "source": [
    "# Exercise 2\n",
    "\n",
    "# Convert the string \" Hello, World! \" to lowercase and remove any extra spaces at the beginning and end.\n",
    "\n",
    "# Result: hello, world!\n",
    "\n",
    "text = \" Hello, World! \"\n",
    "modified_text = text.lower()  # Lowercasing and then storing in a new variable\n",
    "print(modified_text.strip()) # Removing unwanted space\n"
   ]
  },
  {
   "cell_type": "markdown",
   "metadata": {},
   "source": [
    "- replace method\n",
    "\n",
    "Replace a part of the string with another string."
   ]
  },
  {
   "cell_type": "code",
   "execution_count": 3,
   "metadata": {},
   "outputs": [
    {
     "name": "stdout",
     "output_type": "stream",
     "text": [
      "I love Python\n"
     ]
    }
   ],
   "source": [
    "text = 'I like Python'\n",
    "print(text.replace('like', 'love'))"
   ]
  },
  {
   "cell_type": "markdown",
   "metadata": {},
   "source": [
    "- Finding Substrings"
   ]
  },
  {
   "cell_type": "markdown",
   "metadata": {},
   "source": [
    "1) index()\n",
    "\n",
    "Returns the index of the first occurance of a substring, but raises an error if the substring is not found."
   ]
  },
  {
   "cell_type": "code",
   "execution_count": 8,
   "metadata": {},
   "outputs": [
    {
     "name": "stdout",
     "output_type": "stream",
     "text": [
      "0\n"
     ]
    }
   ],
   "source": [
    "text = \"Hello, World!\"\n",
    "print(text.index('H'))"
   ]
  },
  {
   "cell_type": "markdown",
   "metadata": {},
   "source": [
    "2. find()\n",
    "\n",
    "Returns the index of the first occurance of a substring, or -1 if not found."
   ]
  },
  {
   "cell_type": "code",
   "execution_count": 7,
   "metadata": {},
   "outputs": [
    {
     "name": "stdout",
     "output_type": "stream",
     "text": [
      "-1\n"
     ]
    }
   ],
   "source": [
    "text = \"Hello, World!\"\n",
    "print(text.find('x'))"
   ]
  },
  {
   "cell_type": "markdown",
   "metadata": {},
   "source": [
    "- String Concatenation\n",
    "\n",
    "Combining two strings"
   ]
  },
  {
   "cell_type": "code",
   "execution_count": 9,
   "metadata": {},
   "outputs": [
    {
     "name": "stdout",
     "output_type": "stream",
     "text": [
      "7\n"
     ]
    }
   ],
   "source": [
    "num1 = 2\n",
    "num2 = 5\n",
    "\n",
    "print(num1 + num2)"
   ]
  },
  {
   "cell_type": "code",
   "execution_count": 11,
   "metadata": {},
   "outputs": [
    {
     "name": "stdout",
     "output_type": "stream",
     "text": [
      "Hello World\n"
     ]
    }
   ],
   "source": [
    "text1 = 'Hello'\n",
    "text2 = 'World'\n",
    "\n",
    "print(text1 + \" \" + text2)"
   ]
  },
  {
   "cell_type": "markdown",
   "metadata": {},
   "source": [
    "# List"
   ]
  },
  {
   "cell_type": "markdown",
   "metadata": {},
   "source": [
    "- A list in Python is a collection of items, which can be of any data type such as integers, float, str, boolean.\n",
    "- List are ordered.\n",
    "- List are also mutable. (Replace, Add, Remove)\n",
    "- We use square brackets to create a list."
   ]
  },
  {
   "cell_type": "code",
   "execution_count": null,
   "metadata": {},
   "outputs": [],
   "source": [
    "# Store all the names of students who enrolled in Computer Science class\n",
    "# Rohit, Zankar, Heet, Alee, Zayn, Akanxa\n",
    "\n",
    "student_1 = 'Rohit'\n",
    "student_2 = 'Zankar'"
   ]
  },
  {
   "cell_type": "code",
   "execution_count": 16,
   "metadata": {},
   "outputs": [
    {
     "name": "stdout",
     "output_type": "stream",
     "text": [
      "['Rohit', 'Zankar', 'Heet', 'Alee']\n"
     ]
    }
   ],
   "source": [
    "students = ['Rohit', 'Zankar', 'Heet', 'Alee']\n",
    "print(students)"
   ]
  },
  {
   "cell_type": "code",
   "execution_count": 17,
   "metadata": {},
   "outputs": [
    {
     "name": "stdout",
     "output_type": "stream",
     "text": [
      "[88, 47, 99, 100, 50]\n"
     ]
    }
   ],
   "source": [
    "marks = [88, 47, 99, 100, 50]\n",
    "print(marks)"
   ]
  },
  {
   "cell_type": "code",
   "execution_count": 18,
   "metadata": {},
   "outputs": [
    {
     "name": "stdout",
     "output_type": "stream",
     "text": [
      "['Uzair', 26, 5.11, True, 'Football']\n"
     ]
    }
   ],
   "source": [
    "uzair = ['Uzair', 26, 5.11, True, 'Football']\n",
    "print(uzair)"
   ]
  },
  {
   "cell_type": "markdown",
   "metadata": {},
   "source": [
    "- Accessing List Items"
   ]
  },
  {
   "cell_type": "code",
   "execution_count": 22,
   "metadata": {},
   "outputs": [
    {
     "name": "stdout",
     "output_type": "stream",
     "text": [
      "['Rohit', 'Zankar', 'Heet']\n"
     ]
    }
   ],
   "source": [
    "students = ['Rohit', 'Zankar', 'Heet', 'Alee', 'Akanxa']\n",
    "print(students[0:3])"
   ]
  },
  {
   "cell_type": "markdown",
   "metadata": {},
   "source": [
    "- Modify List Items"
   ]
  },
  {
   "cell_type": "code",
   "execution_count": 23,
   "metadata": {},
   "outputs": [
    {
     "name": "stdout",
     "output_type": "stream",
     "text": [
      "['Rohit', 'Zankar', 'Zayn', 'Alee', 'Akanxa']\n"
     ]
    }
   ],
   "source": [
    "students = ['Rohit', 'Zankar', 'Heet', 'Alee', 'Akanxa']   # Replacing Heet with Zayn\n",
    "students[2] = 'Zayn'\n",
    "print(students)"
   ]
  },
  {
   "cell_type": "markdown",
   "metadata": {},
   "source": [
    "- Add Item to a List"
   ]
  },
  {
   "cell_type": "markdown",
   "metadata": {},
   "source": [
    "1) append()\n",
    "\n",
    "Add an item to the end of the list."
   ]
  },
  {
   "cell_type": "code",
   "execution_count": 24,
   "metadata": {},
   "outputs": [
    {
     "name": "stdout",
     "output_type": "stream",
     "text": [
      "['Rohit', 'Zankar', 'Heet', 'Alee', 'Akanxa', 'Zayn']\n"
     ]
    }
   ],
   "source": [
    "students = ['Rohit', 'Zankar', 'Heet', 'Alee', 'Akanxa']  # New Sutdent is Zayn\n",
    "students.append('Zayn')\n",
    "print(students)"
   ]
  },
  {
   "cell_type": "markdown",
   "metadata": {},
   "source": [
    "2. insert()\n",
    "\n",
    "Add an item at a specific index."
   ]
  },
  {
   "cell_type": "code",
   "execution_count": 26,
   "metadata": {},
   "outputs": [
    {
     "name": "stdout",
     "output_type": "stream",
     "text": [
      "['Rohit', 'Zankar', 'Heet', 'Zayn', 'Alee', 'Akanxa']\n"
     ]
    }
   ],
   "source": [
    "students = ['Rohit', 'Zankar', 'Heet', 'Alee', 'Akanxa']  # New Sutdent is Zayn\n",
    "\n",
    "students.insert(3, 'Zayn')\n",
    "print(students)"
   ]
  },
  {
   "cell_type": "markdown",
   "metadata": {},
   "source": [
    "- Removing items from a List"
   ]
  },
  {
   "cell_type": "markdown",
   "metadata": {},
   "source": [
    "1. remove()\n",
    "\n",
    "Removes the first occurance of a specified value"
   ]
  },
  {
   "cell_type": "code",
   "execution_count": 29,
   "metadata": {},
   "outputs": [
    {
     "name": "stdout",
     "output_type": "stream",
     "text": [
      "['Zankar', 'Heet', 'Alee', 'Rohit', 'Akanxa']\n"
     ]
    }
   ],
   "source": [
    "students = ['Rohit', 'Zankar', 'Heet', 'Alee', 'Rohit', 'Akanxa']\n",
    "students.remove('Rohit')\n",
    "print(students)"
   ]
  },
  {
   "cell_type": "markdown",
   "metadata": {},
   "source": [
    "2. pop()\n",
    "\n",
    "Remove an item by index"
   ]
  },
  {
   "cell_type": "code",
   "execution_count": 28,
   "metadata": {},
   "outputs": [
    {
     "name": "stdout",
     "output_type": "stream",
     "text": [
      "['Zankar', 'Heet', 'Alee', 'Akanxa']\n"
     ]
    }
   ],
   "source": [
    "students = ['Rohit', 'Zankar', 'Heet', 'Alee', 'Akanxa']\n",
    "students.pop(0)\n",
    "print(students)"
   ]
  },
  {
   "cell_type": "markdown",
   "metadata": {},
   "source": [
    "- Length of a List\n",
    "\n",
    "Returns no of items in a list"
   ]
  },
  {
   "cell_type": "code",
   "execution_count": 30,
   "metadata": {},
   "outputs": [
    {
     "name": "stdout",
     "output_type": "stream",
     "text": [
      "5\n"
     ]
    }
   ],
   "source": [
    "students = ['Rohit', 'Zankar', 'Heet', 'Alee', 'Akanxa']\n",
    "print(len(students))"
   ]
  },
  {
   "cell_type": "markdown",
   "metadata": {},
   "source": [
    "- Counting items\n",
    "\n",
    "The count() counts how many times a specific item appears in the list."
   ]
  },
  {
   "cell_type": "code",
   "execution_count": 32,
   "metadata": {},
   "outputs": [
    {
     "name": "stdout",
     "output_type": "stream",
     "text": [
      "3\n"
     ]
    }
   ],
   "source": [
    "numbers = [1, 1, 2, 3, 4, 4, 4, 5, 6]\n",
    "print(numbers.count(4))"
   ]
  },
  {
   "cell_type": "markdown",
   "metadata": {},
   "source": [
    "- Sorting a List"
   ]
  },
  {
   "cell_type": "code",
   "execution_count": 1,
   "metadata": {},
   "outputs": [
    {
     "name": "stdout",
     "output_type": "stream",
     "text": [
      "[1, 1.5, 2, 3, 4, 8, 10]\n"
     ]
    }
   ],
   "source": [
    "numbers = [2, 1.5, 4, 3, 1, 10, 8]\n",
    "numbers.sort()\n",
    "print(numbers)"
   ]
  },
  {
   "cell_type": "code",
   "execution_count": 34,
   "metadata": {},
   "outputs": [
    {
     "name": "stdout",
     "output_type": "stream",
     "text": [
      "[10, 8, 4, 3, 2, 1, 1]\n"
     ]
    }
   ],
   "source": [
    "numbers = [2, 1, 4, 3, 1, 10, 8]\n",
    "numbers.sort(reverse=True)\n",
    "print(numbers)"
   ]
  },
  {
   "cell_type": "code",
   "execution_count": 2,
   "metadata": {},
   "outputs": [
    {
     "name": "stdout",
     "output_type": "stream",
     "text": [
      "['Akanksha', 'Nikhil', 'Rohit', 'Uzair', 'Zankat']\n"
     ]
    }
   ],
   "source": [
    "students = ['Uzair', 'Akanksha', 'Zankat', 'Rohit', 'Nikhil']\n",
    "students.sort()\n",
    "print(students)"
   ]
  },
  {
   "cell_type": "markdown",
   "metadata": {},
   "source": [
    "- Reversing a List"
   ]
  },
  {
   "cell_type": "code",
   "execution_count": 3,
   "metadata": {},
   "outputs": [
    {
     "name": "stdout",
     "output_type": "stream",
     "text": [
      "['Nikhil', 'Rohit', 'Zankat', 'Akanksha', 'Uzair']\n"
     ]
    }
   ],
   "source": [
    "students = ['Uzair', 'Akanksha', 'Zankat', 'Rohit', 'Nikhil']\n",
    "\n",
    "students.reverse()\n",
    "\n",
    "print(students)"
   ]
  },
  {
   "cell_type": "markdown",
   "metadata": {},
   "source": [
    "- Checking for items in a List"
   ]
  },
  {
   "cell_type": "code",
   "execution_count": 5,
   "metadata": {},
   "outputs": [
    {
     "name": "stdout",
     "output_type": "stream",
     "text": [
      "True\n"
     ]
    }
   ],
   "source": [
    "students = ['Uzair', 'Akanksha', 'Zankat', 'Rohit', 'Nikhil']\n",
    "\n",
    "\n",
    "# If virat exist in a list?\n",
    "# in keyword\n",
    "\n",
    "print('Uzair' in students)"
   ]
  },
  {
   "cell_type": "code",
   "execution_count": null,
   "metadata": {},
   "outputs": [],
   "source": [
    "# Using a set\n",
    "# Using a loop\n",
    "# Using dict.fromkey()"
   ]
  },
  {
   "cell_type": "markdown",
   "metadata": {},
   "source": [
    "# Dictionaries"
   ]
  },
  {
   "cell_type": "markdown",
   "metadata": {},
   "source": [
    "- Dictionary in Python is a collection of key value pair.\n",
    "- Each key in dictionary is unique.\n",
    "- Keys are used to access its associated value.\n",
    "- You can create a dictionary using curly braces {} with keys and values separated by a colon.\n",
    "- Dictionaries are mutables (we can add, updated or remove key value pair)"
   ]
  },
  {
   "cell_type": "markdown",
   "metadata": {},
   "source": [
    "English: 90\n",
    "\n",
    "Maths: 80\n",
    "\n",
    "Commerce: 90\n",
    "\n",
    "Chemistry: 100"
   ]
  },
  {
   "cell_type": "code",
   "execution_count": 10,
   "metadata": {},
   "outputs": [
    {
     "name": "stdout",
     "output_type": "stream",
     "text": [
      "{'English': 90, 'Maths': 80, 'Commerce': 90, 'Chemistry': 100}\n"
     ]
    }
   ],
   "source": [
    "marks_dict = {\n",
    "    'English' : 90,\n",
    "    'Maths' : 80,\n",
    "    'Commerce' : 90,\n",
    "    'Chemistry' : 100\n",
    "}\n",
    "\n",
    "print(marks_dict)"
   ]
  },
  {
   "cell_type": "markdown",
   "metadata": {},
   "source": [
    "- Accessing Values in a DIctionary"
   ]
  },
  {
   "cell_type": "code",
   "execution_count": 17,
   "metadata": {},
   "outputs": [
    {
     "name": "stdout",
     "output_type": "stream",
     "text": [
      "100\n"
     ]
    }
   ],
   "source": [
    "print(marks_dict['Chemistry'])"
   ]
  },
  {
   "cell_type": "code",
   "execution_count": 15,
   "metadata": {},
   "outputs": [
    {
     "name": "stdout",
     "output_type": "stream",
     "text": [
      "None\n"
     ]
    }
   ],
   "source": [
    "print(marks_dict.get('Biology'))"
   ]
  },
  {
   "cell_type": "markdown",
   "metadata": {},
   "source": [
    "If a key doesn't exist and you use [] , it raises an error. But the .get() method avoids this by returning None of the key is not found."
   ]
  },
  {
   "cell_type": "markdown",
   "metadata": {},
   "source": [
    "- Add Key Value Pair"
   ]
  },
  {
   "cell_type": "code",
   "execution_count": 18,
   "metadata": {},
   "outputs": [
    {
     "name": "stdout",
     "output_type": "stream",
     "text": [
      "{'English': 90, 'Maths': 80, 'Commerce': 90, 'Chemistry': 100, 'Science': 50}\n"
     ]
    }
   ],
   "source": [
    "marks_dict = {\n",
    "    'English' : 90,\n",
    "    'Maths' : 80,\n",
    "    'Commerce' : 90,\n",
    "    'Chemistry' : 100\n",
    "}\n",
    "\n",
    "# Science 50\n",
    "\n",
    "marks_dict['Science'] = 50\n",
    "\n",
    "print(marks_dict)"
   ]
  },
  {
   "cell_type": "markdown",
   "metadata": {},
   "source": [
    "- Updating Dictionary"
   ]
  },
  {
   "cell_type": "code",
   "execution_count": 19,
   "metadata": {},
   "outputs": [
    {
     "name": "stdout",
     "output_type": "stream",
     "text": [
      "{'English': 90, 'Maths': 80, 'Commerce': 90, 'Chemistry': 60}\n"
     ]
    }
   ],
   "source": [
    "marks_dict = {\n",
    "    'English' : 90,\n",
    "    'Maths' : 80,\n",
    "    'Commerce' : 90,\n",
    "    'Chemistry' : 50  # 10 Grace marks, so now my updated chem marks will be 50 + 10 = 60\n",
    "}\n",
    "\n",
    "marks_dict['Chemistry'] = 60\n",
    "\n",
    "print(marks_dict)"
   ]
  },
  {
   "cell_type": "code",
   "execution_count": 20,
   "metadata": {},
   "outputs": [
    {
     "name": "stdout",
     "output_type": "stream",
     "text": [
      "{'English': 90, 'Commerce': 90, 'Chemistry': 100}\n"
     ]
    }
   ],
   "source": [
    "marks_dict = {\n",
    "    'English' : 90,\n",
    "    'Maths' : 80,\n",
    "    'Commerce' : 90,\n",
    "    'Chemistry' : 100\n",
    "}\n",
    "\n",
    "marks_dict.pop('Maths')\n",
    "\n",
    "print(marks_dict)"
   ]
  },
  {
   "cell_type": "markdown",
   "metadata": {},
   "source": [
    "- Dictionary Methods"
   ]
  },
  {
   "cell_type": "markdown",
   "metadata": {},
   "source": [
    "1. keys()\n",
    "\n",
    "Returns a list of all keys."
   ]
  },
  {
   "cell_type": "code",
   "execution_count": 21,
   "metadata": {},
   "outputs": [
    {
     "name": "stdout",
     "output_type": "stream",
     "text": [
      "dict_keys(['English', 'Maths', 'Commerce', 'Chemistry'])\n"
     ]
    }
   ],
   "source": [
    "marks_dict = {\n",
    "    'English' : 90,\n",
    "    'Maths' : 80,\n",
    "    'Commerce' : 90,\n",
    "    'Chemistry' : 100\n",
    "}\n",
    "\n",
    "print(marks_dict.keys())"
   ]
  },
  {
   "cell_type": "markdown",
   "metadata": {},
   "source": [
    "2. values()\n",
    "\n",
    "Return a list of all values"
   ]
  },
  {
   "cell_type": "code",
   "execution_count": 22,
   "metadata": {},
   "outputs": [
    {
     "name": "stdout",
     "output_type": "stream",
     "text": [
      "dict_values([90, 80, 90, 100])\n"
     ]
    }
   ],
   "source": [
    "marks_dict = {\n",
    "    'English' : 90,\n",
    "    'Maths' : 80,\n",
    "    'Commerce' : 90,\n",
    "    'Chemistry' : 100\n",
    "}\n",
    "\n",
    "print(marks_dict.values())"
   ]
  },
  {
   "cell_type": "markdown",
   "metadata": {},
   "source": [
    "- Merge Two Dictionaries"
   ]
  },
  {
   "cell_type": "code",
   "execution_count": 23,
   "metadata": {},
   "outputs": [
    {
     "name": "stdout",
     "output_type": "stream",
     "text": [
      "{'name': 'Uzair', 'age': 26, 'English': 90, 'Maths': 80, 'Commerce': 90, 'Chemistry': 100}\n"
     ]
    }
   ],
   "source": [
    "students_details = {\n",
    "    'name' : 'Uzair',\n",
    "    'age' : 26\n",
    "}\n",
    "\n",
    "marks_dict = {\n",
    "    'English' : 90,\n",
    "    'Maths' : 80,\n",
    "    'Commerce' : 90,\n",
    "    'Chemistry' : 100\n",
    "}\n",
    "\n",
    "\n",
    "students_details.update(marks_dict)\n",
    "\n",
    "print(students_details)"
   ]
  },
  {
   "cell_type": "markdown",
   "metadata": {},
   "source": [
    "- Checking if a key exists in a dictionary"
   ]
  },
  {
   "cell_type": "code",
   "execution_count": 25,
   "metadata": {},
   "outputs": [
    {
     "name": "stdout",
     "output_type": "stream",
     "text": [
      "False\n"
     ]
    }
   ],
   "source": [
    "marks_dict = {\n",
    "    'English' : 90,\n",
    "    'Maths' : 80,\n",
    "    'Commerce' : 90,\n",
    "    'Chemistry' : 100\n",
    "}\n",
    "\n",
    "print('Biology' in marks_dict)"
   ]
  },
  {
   "cell_type": "markdown",
   "metadata": {},
   "source": [
    "1. Create a dictionary with three key-value pairs: name (your name), age (your age), and country (your country). Print the values associated with each key.\n",
    "\n",
    "\n",
    "2. Given the dictionary person = {\"name\": \"John\", \"city\": \"New York\"}, print the value of the key \"city\".\n",
    "\n",
    "\n",
    "3. Create a dictionary called car with the following keys: \"make\", \"model\", and \"year\". Add values to each key, then print the car's make and model.\n",
    "\n",
    "\n",
    "4. Create a dictionary called movie that stores the title of the movie, director, and release year. After that, update the director’s name and print the updated dictionary."
   ]
  },
  {
   "cell_type": "code",
   "execution_count": 4,
   "metadata": {},
   "outputs": [
    {
     "name": "stdout",
     "output_type": "stream",
     "text": [
      "{'name': 'nikhil', 'age': 24, 'country': 'india'}\n"
     ]
    }
   ],
   "source": [
    "#01\n",
    "dict={\n",
    "    \"name\":\"nikhil\",\n",
    "      \"age\":24,\n",
    "    \"country\" :\"india\"\n",
    "}\n",
    "print(dict) #print the associated key-value pair."
   ]
  },
  {
   "cell_type": "code",
   "execution_count": 24,
   "metadata": {},
   "outputs": [
    {
     "name": "stdout",
     "output_type": "stream",
     "text": [
      "newyork\n"
     ]
    }
   ],
   "source": [
    "#02\n",
    "d1={\n",
    "    \"name\":\"john\",\n",
    "    \"city\":\"newyork\"\n",
    "}\n",
    "print(d1.get(\"city\")) #using get method to the get output for keyvalue pair city.\n"
   ]
  },
  {
   "cell_type": "code",
   "execution_count": 28,
   "metadata": {},
   "outputs": [
    {
     "name": "stdout",
     "output_type": "stream",
     "text": [
      "{'make': 'honda', 'model': 'civic', 'year': 2012}\n",
      "honda civic\n"
     ]
    }
   ],
   "source": [
    "#03\n",
    "car={  }\n",
    "car[\"make\"]=\"honda\"\n",
    "car[\"model\"]=\"civic\"\n",
    "car[\"year\"]=2012\n",
    "print(car)\n",
    "\n",
    "##after add key values to it,now print make and model of the car.\n",
    "print(car[\"make\"],car[\"model\"]) ##print make and model of the car.\n",
    "\n",
    "\n"
   ]
  },
  {
   "cell_type": "code",
   "execution_count": 30,
   "metadata": {},
   "outputs": [
    {
     "name": "stdout",
     "output_type": "stream",
     "text": [
      "{'movie': 'RRR', 'Director': 'SS.Rajamouli', 'release year': 2023}\n",
      "{'movie': 'RRR', 'Director': 'SSR', 'release year': 2023}\n"
     ]
    }
   ],
   "source": [
    "movie={\n",
    "    \"movie\":\"RRR\",\n",
    "    \"Director\":\"SS.Rajamouli\",\n",
    "    \"release year\":2023\n",
    "}\n",
    "print(movie)\n",
    "#after updating the director name as SSR.\n",
    "movie[\"Director\"]=\"SSR\"\n",
    "print(movie)"
   ]
  }
 ],
 "metadata": {
  "kernelspec": {
   "display_name": "Python 3",
   "language": "python",
   "name": "python3"
  },
  "language_info": {
   "codemirror_mode": {
    "name": "ipython",
    "version": 3
   },
   "file_extension": ".py",
   "mimetype": "text/x-python",
   "name": "python",
   "nbconvert_exporter": "python",
   "pygments_lexer": "ipython3",
   "version": "3.11.5"
  }
 },
 "nbformat": 4,
 "nbformat_minor": 2
}
