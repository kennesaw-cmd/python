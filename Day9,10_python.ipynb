{
 "cells": [
  {
   "cell_type": "markdown",
   "metadata": {},
   "source": [
    "# What are Loops?"
   ]
  },
  {
   "cell_type": "markdown",
   "metadata": {},
   "source": [
    "Loops allow us to execute a block of code multiple times without needing to rewrite the code repeatedly."
   ]
  },
  {
   "cell_type": "markdown",
   "metadata": {},
   "source": [
    "In Python, there are two main types of loops:\n",
    "1. for loop\n",
    "2. while loop"
   ]
  },
  {
   "cell_type": "markdown",
   "metadata": {},
   "source": [
    "### for loop"
   ]
  },
  {
   "cell_type": "markdown",
   "metadata": {},
   "source": [
    "A loop is used to iterate over a sequence like a list, string, or a range of number."
   ]
  },
  {
   "cell_type": "code",
   "execution_count": 49,
   "metadata": {},
   "outputs": [
    {
     "data": {
      "text/plain": [
       "'\\n1\\n2\\n3\\n4\\n5\\n6\\n7\\n'"
      ]
     },
     "execution_count": 49,
     "metadata": {},
     "output_type": "execute_result"
    }
   ],
   "source": [
    "'''\n",
    "1\n",
    "2\n",
    "3\n",
    "4\n",
    "5\n",
    "6\n",
    "7\n",
    "'''\n",
    "\n",
    "# print(numbers[0])\n",
    "# print(numbers[1])\n",
    "# print(numbers[2])"
   ]
  },
  {
   "cell_type": "markdown",
   "metadata": {},
   "source": [
    "#### Q1"
   ]
  },
  {
   "cell_type": "code",
   "execution_count": 50,
   "metadata": {},
   "outputs": [
    {
     "name": "stdout",
     "output_type": "stream",
     "text": [
      "1\n",
      "2\n",
      "3\n",
      "4\n",
      "5\n",
      "6\n",
      "7\n"
     ]
    }
   ],
   "source": [
    "numbers = [1, 2, 3, 4, 5, 6, 7]\n",
    "\n",
    "# for is a keyword for *for loop*\n",
    "# item is a variable\n",
    "# in is a keyword to connect variable with the list\n",
    "# numbers is a list which i defined above \n",
    "# print(item)  print the current value in item variable\n",
    "\n",
    "# This loop runs 7 times, because there are 7 items in a list\n",
    "\n",
    "for item in numbers: # This line start the for loop\n",
    "    print(item)\n",
    "    \n",
    "    # 1st iteration: item = 1, so it print the current item which is 1\n",
    "    # 2nd iteration: item = 2, so it print the current item which is 2\n",
    "    # 3rd iteration: item = 3, so it print the current item which is 3.\n"
   ]
  },
  {
   "cell_type": "markdown",
   "metadata": {},
   "source": [
    "#### Q2"
   ]
  },
  {
   "cell_type": "code",
   "execution_count": 51,
   "metadata": {},
   "outputs": [
    {
     "name": "stdout",
     "output_type": "stream",
     "text": [
      "P\n",
      "y\n",
      "t\n",
      "h\n",
      "o\n",
      "n\n"
     ]
    }
   ],
   "source": [
    "text = 'Python'\n",
    "\n",
    "for char in text:\n",
    "    print(char)"
   ]
  },
  {
   "cell_type": "markdown",
   "metadata": {},
   "source": [
    "#### Q3"
   ]
  },
  {
   "cell_type": "code",
   "execution_count": 52,
   "metadata": {},
   "outputs": [
    {
     "name": "stdout",
     "output_type": "stream",
     "text": [
      "APPLE\n",
      "CHERRY\n",
      "BANANA\n",
      "DATE\n"
     ]
    }
   ],
   "source": [
    "# Capitializing items in a list \n",
    "\n",
    "fruits = ['apple', 'cherry', 'banana', 'date']\n",
    "\n",
    "for item in fruits: \n",
    "    print(item.upper())"
   ]
  },
  {
   "cell_type": "markdown",
   "metadata": {},
   "source": [
    "#### Q4"
   ]
  },
  {
   "cell_type": "code",
   "execution_count": 53,
   "metadata": {},
   "outputs": [
    {
     "name": "stdout",
     "output_type": "stream",
     "text": [
      "0\n",
      "1\n",
      "2\n",
      "3\n",
      "4\n",
      "5\n",
      "6\n",
      "7\n",
      "8\n",
      "9\n",
      "10\n"
     ]
    }
   ],
   "source": [
    "# Print numbers from 0 to 10\n",
    "\n",
    "for number in range(11):  # This range function generate numbers from 0 to 10\n",
    "    print(number)\n",
    "    \n",
    "    # On first iter, range func will generate 0 and then number = 0, then we are printing current value of number\n",
    "    # On second iter, range func will generate 1, and then number = 1, after that we are printing curr val of number\n",
    "    "
   ]
  },
  {
   "cell_type": "markdown",
   "metadata": {},
   "source": [
    "#### Q5"
   ]
  },
  {
   "cell_type": "code",
   "execution_count": 54,
   "metadata": {},
   "outputs": [
    {
     "name": "stdout",
     "output_type": "stream",
     "text": [
      "5\n",
      "6\n",
      "7\n",
      "8\n",
      "9\n",
      "10\n",
      "11\n",
      "12\n",
      "13\n",
      "14\n",
      "15\n"
     ]
    }
   ],
   "source": [
    "# Print numbers from 5 to 15\n",
    "\n",
    "for number in range(5, 16):\n",
    "    print(number)"
   ]
  },
  {
   "cell_type": "markdown",
   "metadata": {},
   "source": [
    "#### Q6"
   ]
  },
  {
   "cell_type": "code",
   "execution_count": 55,
   "metadata": {},
   "outputs": [
    {
     "name": "stdout",
     "output_type": "stream",
     "text": [
      "Python is awesome\n",
      "Python is awesome\n",
      "Python is awesome\n",
      "Python is awesome\n",
      "Python is awesome\n",
      "Python is awesome\n",
      "Python is awesome\n",
      "Python is awesome\n",
      "Python is awesome\n",
      "Python is awesome\n"
     ]
    }
   ],
   "source": [
    "# Print \"Python is awesome\" 10 times \n",
    "\n",
    "for number in range(10):\n",
    "    print('Python is awesome')"
   ]
  },
  {
   "cell_type": "markdown",
   "metadata": {},
   "source": [
    "#### Q7"
   ]
  },
  {
   "cell_type": "code",
   "execution_count": 56,
   "metadata": {},
   "outputs": [
    {
     "data": {
      "text/plain": [
       "'\\n1. I am sorry\\n2. I am sorry\\n3. I am sorry\\n.\\n.\\n. \\n10. I am sorry\\n'"
      ]
     },
     "execution_count": 56,
     "metadata": {},
     "output_type": "execute_result"
    }
   ],
   "source": [
    "'''\n",
    "1. I am sorry\n",
    "2. I am sorry\n",
    "3. I am sorry\n",
    ".\n",
    ".\n",
    ". \n",
    "10. I am sorry\n",
    "'''"
   ]
  },
  {
   "cell_type": "code",
   "execution_count": 57,
   "metadata": {},
   "outputs": [
    {
     "name": "stdout",
     "output_type": "stream",
     "text": [
      "1. I am sorry\n",
      "2. I am sorry\n",
      "3. I am sorry\n",
      "4. I am sorry\n",
      "5. I am sorry\n",
      "6. I am sorry\n",
      "7. I am sorry\n",
      "8. I am sorry\n",
      "9. I am sorry\n",
      "10. I am sorry\n"
     ]
    }
   ],
   "source": [
    "for number in range(1, 11):  \n",
    "    print(f\"{number}. I am sorry\")\n",
    "    \n",
    "    # On first iteration, number = 1\n",
    "    # 1. I am sorry\n",
    "    \n",
    "    # On second iteration, number = 2\n",
    "    # 2. I am sorry"
   ]
  },
  {
   "cell_type": "markdown",
   "metadata": {},
   "source": [
    "#### Q8"
   ]
  },
  {
   "cell_type": "code",
   "execution_count": 58,
   "metadata": {},
   "outputs": [
    {
     "name": "stdout",
     "output_type": "stream",
     "text": [
      "10\n",
      "9\n",
      "8\n",
      "7\n",
      "6\n",
      "5\n",
      "4\n",
      "3\n",
      "2\n",
      "1\n"
     ]
    }
   ],
   "source": [
    "# Print numbers from 10 to 1 \n",
    "\n",
    "# 10\n",
    "# 9\n",
    "# 8\n",
    "# 7\n",
    "# 6\n",
    "# 5\n",
    "# 4\n",
    "# 3\n",
    "# 2\n",
    "# 1\n",
    "\n",
    "\n",
    "for number in range(10, 0, -1):  # range(start=10, stop=0, step=-1)\n",
    "    print(number)"
   ]
  },
  {
   "cell_type": "markdown",
   "metadata": {},
   "source": [
    "#### Q9"
   ]
  },
  {
   "cell_type": "code",
   "execution_count": 59,
   "metadata": {},
   "outputs": [
    {
     "name": "stdout",
     "output_type": "stream",
     "text": [
      "0\n",
      "2\n",
      "4\n",
      "6\n",
      "8\n"
     ]
    }
   ],
   "source": [
    "# Incrementing by 2\n",
    "\n",
    "for number in range(0, 10, 2):\n",
    "    print(number)"
   ]
  },
  {
   "cell_type": "markdown",
   "metadata": {},
   "source": [
    "#### Q10"
   ]
  },
  {
   "cell_type": "code",
   "execution_count": 60,
   "metadata": {},
   "outputs": [
    {
     "name": "stdout",
     "output_type": "stream",
     "text": [
      "Even number: 10\n",
      "Odd number: 15\n",
      "Even number: 20\n",
      "Odd number: 25\n",
      "Even number: 30\n"
     ]
    }
   ],
   "source": [
    "# We have to check each no in a list to see even and odd no. \n",
    "# Even numbers are divisible by 2 with no remainder.\n",
    "# Odd numbers are not completely divisible by 2 and have remainder 1.\n",
    "\n",
    "numbers = [10, 15, 20, 25, 30]\n",
    "\n",
    "for num in numbers:\n",
    "    if num % 2 == 0:\n",
    "        print(f\"Even number: {num}\")\n",
    "        \n",
    "    elif num % 2 == 1:\n",
    "        print(f\"Odd number: {num}\")"
   ]
  },
  {
   "cell_type": "markdown",
   "metadata": {},
   "source": [
    "#### Q11"
   ]
  },
  {
   "cell_type": "code",
   "execution_count": 61,
   "metadata": {},
   "outputs": [
    {
     "name": "stdout",
     "output_type": "stream",
     "text": [
      "THe sum is 55\n"
     ]
    }
   ],
   "source": [
    "# Calc sum of all numbers from 1 to 10. \n",
    "\n",
    "# 1, 2, 3, 4, 5, 6, 7, 8, 9, 10 -> 55 \n",
    "\n",
    "\n",
    "total = 0\n",
    "\n",
    "for i in range(1, 11):\n",
    "    total = total + i\n",
    "    \n",
    "print(f\"THe sum is {total}\")\n",
    "\n",
    "\n",
    "# On first iteration, range func will generate 1. i = 1. total = 0 + 1 = 1\n",
    "# On second iteration, range func will generate 2. i = 2. total = 1 + 2 = 3\n",
    "# On third iteration, range func will generate 3. i = 3. total = 3 + 3 = 6\n"
   ]
  },
  {
   "cell_type": "markdown",
   "metadata": {},
   "source": [
    "#### Q12\n",
    "\n",
    "break statement is used to terminate a loop immediately once a specific condition is met."
   ]
  },
  {
   "cell_type": "code",
   "execution_count": 62,
   "metadata": {},
   "outputs": [
    {
     "name": "stdout",
     "output_type": "stream",
     "text": [
      "Uzair\n",
      "Heet\n",
      "Found Rohit\n"
     ]
    }
   ],
   "source": [
    "students = ['Uzair', 'Heet', 'Rohit', 'Nikhil', 'Zankar']\n",
    "\n",
    "for student in students:\n",
    "    if student == 'Rohit':\n",
    "        print(\"Found Rohit\")\n",
    "        break\n",
    "        \n",
    "    print(student)\n",
    "        \n",
    "        \n",
    "    "
   ]
  },
  {
   "cell_type": "markdown",
   "metadata": {},
   "source": [
    "#### Q13\n",
    "\n",
    "continue statement: Skips the current iteration of the loop and proceeds to the next one."
   ]
  },
  {
   "cell_type": "code",
   "execution_count": 63,
   "metadata": {},
   "outputs": [
    {
     "name": "stdout",
     "output_type": "stream",
     "text": [
      "Uzair\n",
      "Heet\n",
      "Skipping ROhit\n",
      "Nikhil\n",
      "Zankar\n"
     ]
    }
   ],
   "source": [
    "students = ['Uzair', 'Heet', 'Rohit', 'Nikhil', 'Zankar']\n",
    "\n",
    "for name in students:\n",
    "    if name == 'Rohit':\n",
    "        print(\"Skipping ROhit\")\n",
    "        continue\n",
    "        \n",
    "    print(name)"
   ]
  },
  {
   "cell_type": "markdown",
   "metadata": {},
   "source": [
    "# while Loop\n",
    "\n",
    "A while loop is a way to repeat a block of code as long as the condition is True."
   ]
  },
  {
   "cell_type": "markdown",
   "metadata": {},
   "source": [
    "#### Q1"
   ]
  },
  {
   "cell_type": "code",
   "execution_count": 64,
   "metadata": {},
   "outputs": [
    {
     "name": "stdout",
     "output_type": "stream",
     "text": [
      "1\n",
      "2\n",
      "3\n",
      "4\n",
      "5\n"
     ]
    }
   ],
   "source": [
    "# Print from 1 to 5. \n",
    "\n",
    "number = 1\n",
    "\n",
    "while number <= 5:\n",
    "    print(number)\n",
    "    number += 1"
   ]
  },
  {
   "cell_type": "markdown",
   "metadata": {},
   "source": [
    "#### Q2"
   ]
  },
  {
   "cell_type": "code",
   "execution_count": 65,
   "metadata": {},
   "outputs": [
    {
     "name": "stdout",
     "output_type": "stream",
     "text": [
      "5\n",
      "4\n",
      "3\n",
      "2\n",
      "1\n",
      "Happy New Year\n"
     ]
    }
   ],
   "source": [
    "# Countdown from 5 to 1. \n",
    "\n",
    "''' \n",
    "5\n",
    "4\n",
    "3\n",
    "2\n",
    "1\n",
    "Happy New Year\n",
    "'''\n",
    "\n",
    "\n",
    "number = 5\n",
    "\n",
    "while number > 0:\n",
    "    print(number)\n",
    "    number -= 1\n",
    "    \n",
    "print('Happy New Year')"
   ]
  },
  {
   "cell_type": "markdown",
   "metadata": {},
   "source": [
    "#### Q3"
   ]
  },
  {
   "cell_type": "code",
   "execution_count": 66,
   "metadata": {},
   "outputs": [
    {
     "name": "stdout",
     "output_type": "stream",
     "text": [
      "0\n",
      "2\n",
      "4\n",
      "6\n",
      "8\n",
      "10\n"
     ]
    }
   ],
   "source": [
    "# Print even numbers from 0 to 10 \n",
    "\n",
    "number = 0\n",
    "\n",
    "while number <= 10:\n",
    "    print(number)\n",
    "    number += 2"
   ]
  },
  {
   "cell_type": "markdown",
   "metadata": {},
   "source": [
    "#### Q4"
   ]
  },
  {
   "cell_type": "code",
   "execution_count": 67,
   "metadata": {},
   "outputs": [
    {
     "name": "stdout",
     "output_type": "stream",
     "text": [
      "2 x 1 = 2\n",
      "2 x 2 = 4\n",
      "2 x 3 = 6\n",
      "2 x 4 = 8\n",
      "2 x 5 = 10\n",
      "2 x 6 = 12\n",
      "2 x 7 = 14\n",
      "2 x 8 = 16\n",
      "2 x 9 = 18\n",
      "2 x 10 = 20\n"
     ]
    }
   ],
   "source": [
    "# Print multiplication table of 2 \n",
    "\n",
    "number = 1 # 3\n",
    "\n",
    "while number <= 10:\n",
    "    print(f\"2 x {number} = {2 * number}\")\n",
    "    number += 1"
   ]
  },
  {
   "cell_type": "markdown",
   "metadata": {},
   "source": [
    "day 10\n",
    "\n",
    "1. Write a program that prints all numbers from 1 to 10, but skips the number 5.\n",
    "\n",
    "\n",
    "2. Write a program that prints numbers from 1 to 20, but stops if it encounters the number 13.\n",
    "\n",
    "\n",
    "3. Write a program that loops through a string \"Python\" and prints each character except the vowels (a, e, i, o, u).\n",
    "\n",
    "\n",
    "4. Write a program that uses a while loop to print numbers from 1 to 5.\n",
    "\n",
    "\n",
    "5. Write a program that uses a while loop to print numbers from 20 to 5."
   ]
  },
  {
   "cell_type": "code",
   "execution_count": 68,
   "metadata": {},
   "outputs": [
    {
     "name": "stdout",
     "output_type": "stream",
     "text": [
      "1\n",
      "2\n",
      "3\n",
      "4\n"
     ]
    }
   ],
   "source": [
    "#01\n",
    "for numbers in range(1,11):\n",
    "      if numbers == 5:\n",
    "            break\n",
    "        \n",
    "      print(numbers)\n",
    "    "
   ]
  },
  {
   "cell_type": "code",
   "execution_count": 69,
   "metadata": {},
   "outputs": [
    {
     "name": "stdout",
     "output_type": "stream",
     "text": [
      "1\n",
      "2\n",
      "3\n",
      "4\n",
      "5\n",
      "6\n",
      "7\n",
      "8\n",
      "9\n",
      "10\n",
      "11\n",
      "12\n"
     ]
    }
   ],
   "source": [
    "#02\n",
    "for numbers in range(1,21):\n",
    "    if numbers==13:\n",
    "        break\n",
    "\n",
    "    print(numbers)"
   ]
  },
  {
   "cell_type": "code",
   "execution_count": 70,
   "metadata": {},
   "outputs": [
    {
     "name": "stdout",
     "output_type": "stream",
     "text": [
      "P\n",
      "y\n",
      "t\n",
      "h\n",
      "n\n"
     ]
    }
   ],
   "source": [
    "#03\n",
    "string = \"Python\"\n",
    "vowels = \"aeiou\"\n",
    "\n",
    "for char in string:\n",
    "    if char not in vowels:\n",
    "        print(char)"
   ]
  },
  {
   "cell_type": "code",
   "execution_count": 71,
   "metadata": {},
   "outputs": [
    {
     "name": "stdout",
     "output_type": "stream",
     "text": [
      "n\n",
      "l\n"
     ]
    }
   ],
   "source": [
    "## example\n",
    "string=\"nikhil\"\n",
    "vow=\"ikh\"\n",
    "for char in string:\n",
    "    if char not in vow:\n",
    "        print(char)"
   ]
  },
  {
   "cell_type": "code",
   "execution_count": 72,
   "metadata": {},
   "outputs": [
    {
     "name": "stdout",
     "output_type": "stream",
     "text": [
      "1\n",
      "2\n",
      "3\n",
      "4\n",
      "5\n"
     ]
    }
   ],
   "source": [
    "#04\n",
    "number=1\n",
    "while number<=5:\n",
    "    print(number)\n",
    "    number+=1"
   ]
  },
  {
   "cell_type": "code",
   "execution_count": 81,
   "metadata": {},
   "outputs": [
    {
     "name": "stdout",
     "output_type": "stream",
     "text": [
      "20\n",
      "19\n",
      "18\n",
      "17\n",
      "16\n",
      "15\n",
      "14\n",
      "13\n",
      "12\n",
      "11\n",
      "10\n",
      "9\n",
      "8\n",
      "7\n",
      "6\n",
      "5\n"
     ]
    }
   ],
   "source": [
    "#05\n",
    "num = 20\n",
    "\n",
    "while num >= 5:\n",
    "    print(num)\n",
    "    num -= 1\n",
    "    "
   ]
  }
 ],
 "metadata": {
  "kernelspec": {
   "display_name": "base",
   "language": "python",
   "name": "python3"
  },
  "language_info": {
   "codemirror_mode": {
    "name": "ipython",
    "version": 3
   },
   "file_extension": ".py",
   "mimetype": "text/x-python",
   "name": "python",
   "nbconvert_exporter": "python",
   "pygments_lexer": "ipython3",
   "version": "3.12.4"
  }
 },
 "nbformat": 4,
 "nbformat_minor": 2
}
