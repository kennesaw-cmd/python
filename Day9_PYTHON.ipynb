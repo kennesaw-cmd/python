{
 "cells": [
  {
   "cell_type": "markdown",
   "metadata": {},
   "source": [
    "# What are Loops?"
   ]
  },
  {
   "cell_type": "markdown",
   "metadata": {},
   "source": [
    "Loops allow us to execute a block of code multiple times without needing to rewrite the code repeatedly."
   ]
  },
  {
   "cell_type": "markdown",
   "metadata": {},
   "source": [
    "In Python, there are two main types of loops:\n",
    "1. for loop\n",
    "2. while loop"
   ]
  },
  {
   "cell_type": "markdown",
   "metadata": {},
   "source": [
    "### for loop"
   ]
  },
  {
   "cell_type": "markdown",
   "metadata": {},
   "source": [
    "A loop is used to iterate over a sequence like a list, string, or a range of number."
   ]
  },
  {
   "cell_type": "code",
   "execution_count": 4,
   "metadata": {},
   "outputs": [
    {
     "data": {
      "text/plain": [
       "'\\n1\\n2\\n3\\n4\\n5\\n6\\n7\\n'"
      ]
     },
     "execution_count": 4,
     "metadata": {},
     "output_type": "execute_result"
    }
   ],
   "source": [
    "'''\n",
    "1\n",
    "2\n",
    "3\n",
    "4\n",
    "5\n",
    "6\n",
    "7\n",
    "'''\n",
    "\n",
    "# print(numbers[0])\n",
    "# print(numbers[1])\n",
    "# print(numbers[2])"
   ]
  },
  {
   "cell_type": "markdown",
   "metadata": {},
   "source": [
    "#### Q1"
   ]
  },
  {
   "cell_type": "code",
   "execution_count": 2,
   "metadata": {},
   "outputs": [
    {
     "name": "stdout",
     "output_type": "stream",
     "text": [
      "1\n",
      "2\n",
      "3\n",
      "4\n",
      "5\n",
      "6\n",
      "7\n"
     ]
    }
   ],
   "source": [
    "numbers = [1, 2, 3, 4, 5, 6, 7]\n",
    "\n",
    "# for is a keyword for *for loop*\n",
    "# item is a variable\n",
    "# in is a keyword to connect variable with the list\n",
    "# numbers is a list which i defined above \n",
    "# print(item)  print the current value in item variable\n",
    "\n",
    "# This loop runs 7 times, because there are 7 items in a list\n",
    "\n",
    "for item  in numbers: # This line start the for loop\n",
    "    print(item)\n",
    "    \n",
    "    # 1st iteration: item = 1, so it print the current item which is 1\n",
    "    # 2nd iteration: item = 2, so it print the current item which is 2\n",
    "    # 3rd iteration: item = 3, so it print the current item which is 3.\n"
   ]
  },
  {
   "cell_type": "markdown",
   "metadata": {},
   "source": [
    "#### Q2"
   ]
  },
  {
   "cell_type": "code",
   "execution_count": 6,
   "metadata": {},
   "outputs": [
    {
     "name": "stdout",
     "output_type": "stream",
     "text": [
      "P\n",
      "y\n",
      "t\n",
      "h\n",
      "o\n",
      "n\n"
     ]
    }
   ],
   "source": [
    "text = 'Python'\n",
    "\n",
    "for char in text:\n",
    "    print(char)"
   ]
  },
  {
   "cell_type": "markdown",
   "metadata": {},
   "source": [
    "#### Q3"
   ]
  },
  {
   "cell_type": "code",
   "execution_count": 8,
   "metadata": {},
   "outputs": [
    {
     "name": "stdout",
     "output_type": "stream",
     "text": [
      "APPLE\n",
      "CHERRY\n",
      "BANANA\n",
      "DATE\n"
     ]
    }
   ],
   "source": [
    "# Capitializing items in a list \n",
    "\n",
    "fruits = ['apple', 'cherry', 'banana', 'date']\n",
    "\n",
    "for item in fruits: \n",
    "    print(item.upper())"
   ]
  },
  {
   "cell_type": "markdown",
   "metadata": {},
   "source": [
    "#### Q4"
   ]
  },
  {
   "cell_type": "code",
   "execution_count": 7,
   "metadata": {},
   "outputs": [
    {
     "name": "stdout",
     "output_type": "stream",
     "text": [
      "0\n",
      "1\n",
      "2\n",
      "3\n",
      "4\n",
      "5\n",
      "6\n",
      "7\n",
      "8\n",
      "9\n",
      "10\n"
     ]
    }
   ],
   "source": [
    "# Print numbers from 0 to 10\n",
    "\n",
    "for number in range(11):  # This range function generate numbers from 0 to 10\n",
    "    print(number)\n",
    "    \n",
    "    # On first iter, range func will generate 0 and then number = 0, then we are printing current value of number\n",
    "    # On second iter, range func will generate 1, and then number = 1, after that we are printing curr val of number\n",
    "    "
   ]
  },
  {
   "cell_type": "markdown",
   "metadata": {},
   "source": [
    "#### Q5"
   ]
  },
  {
   "cell_type": "code",
   "execution_count": 11,
   "metadata": {},
   "outputs": [
    {
     "name": "stdout",
     "output_type": "stream",
     "text": [
      "5\n",
      "6\n",
      "7\n",
      "8\n",
      "9\n",
      "10\n",
      "11\n",
      "12\n",
      "13\n",
      "14\n",
      "15\n"
     ]
    }
   ],
   "source": [
    "# Print numbers from 5 to 15\n",
    "\n",
    "for number in range(5, 16):\n",
    "    print(number)"
   ]
  },
  {
   "cell_type": "markdown",
   "metadata": {},
   "source": [
    "#### Q6"
   ]
  },
  {
   "cell_type": "code",
   "execution_count": 14,
   "metadata": {},
   "outputs": [
    {
     "name": "stdout",
     "output_type": "stream",
     "text": [
      "Python is awesome\n",
      "Python is awesome\n",
      "Python is awesome\n",
      "Python is awesome\n",
      "Python is awesome\n",
      "Python is awesome\n",
      "Python is awesome\n",
      "Python is awesome\n",
      "Python is awesome\n",
      "Python is awesome\n"
     ]
    }
   ],
   "source": [
    "# Print \"Python is awesome\" 10 times \n",
    "\n",
    "for char in range(10):\n",
    "    print('Python is awesome')"
   ]
  },
  {
   "cell_type": "markdown",
   "metadata": {},
   "source": [
    "#### Q7"
   ]
  },
  {
   "cell_type": "code",
   "execution_count": null,
   "metadata": {},
   "outputs": [],
   "source": [
    "'''\n",
    "1. I am sorry\n",
    "2. I am sorry\n",
    "3. I am sorry\n",
    ".\n",
    ".\n",
    ". \n",
    "10. I am sorry\n",
    "'''"
   ]
  },
  {
   "cell_type": "code",
   "execution_count": 18,
   "metadata": {},
   "outputs": [
    {
     "name": "stdout",
     "output_type": "stream",
     "text": [
      "1. I am sorry\n",
      "2. I am sorry\n",
      "3. I am sorry\n",
      "4. I am sorry\n",
      "5. I am sorry\n",
      "6. I am sorry\n",
      "7. I am sorry\n",
      "8. I am sorry\n",
      "9. I am sorry\n",
      "10. I am sorry\n"
     ]
    }
   ],
   "source": [
    "for number in range(1,11):  \n",
    "    print(f\"{number}. I am sorry\")\n",
    "    \n",
    "    # On first iteration, number = 1\n",
    "    # 1. I am sorry\n",
    "    \n",
    "    # On second iteration, number = 2\n",
    "    # 2. I am sorry"
   ]
  },
  {
   "cell_type": "markdown",
   "metadata": {},
   "source": [
    "#### Q8"
   ]
  },
  {
   "cell_type": "code",
   "execution_count": 18,
   "metadata": {},
   "outputs": [
    {
     "name": "stdout",
     "output_type": "stream",
     "text": [
      "10\n",
      "9\n",
      "8\n",
      "7\n",
      "6\n",
      "5\n",
      "4\n",
      "3\n",
      "2\n",
      "1\n"
     ]
    }
   ],
   "source": [
    "# Print numbers from 10 to 1 \n",
    "\n",
    "# 10\n",
    "# 9\n",
    "# 8\n",
    "# 7\n",
    "# 6\n",
    "# 5\n",
    "# 4\n",
    "# 3\n",
    "# 2\n",
    "# 1\n",
    "\n",
    "\n",
    "for number in range(10, 0, -1):  # range(start=10, stop=0, step=-1)\n",
    "    print(number)"
   ]
  },
  {
   "cell_type": "markdown",
   "metadata": {},
   "source": [
    "#### Q9"
   ]
  },
  {
   "cell_type": "code",
   "execution_count": 21,
   "metadata": {},
   "outputs": [
    {
     "name": "stdout",
     "output_type": "stream",
     "text": [
      "0\n",
      "2\n",
      "4\n",
      "6\n",
      "8\n"
     ]
    }
   ],
   "source": [
    "# Incrementing by 2\n",
    "\n",
    "for number in range(0, 10, 2):\n",
    "    print(number)"
   ]
  },
  {
   "cell_type": "markdown",
   "metadata": {},
   "source": [
    "##DAY 09 PROBLEMS\n",
    "1. Write a for loop to print numbers from 0 to 4 using range.\n",
    "\n",
    "\n",
    "2. Use a for loop to print numbers from 1 to 5.\n",
    "\n",
    "\n",
    "3. Write a for loop to print even numbers between 0 and 10 (inclusive) using range.\n",
    "\n",
    "\n",
    "4. Print all numbers between 3 and 8 (inclusive) using a for loop and range.\n",
    "\n",
    "\n",
    "5. Use a for loop to print \"Python is fun!\" 5 times.\n",
    "\n",
    "\n",
    "6. Write a for loop to print numbers from 0 to 2.\n",
    "\n",
    "\n",
    "7. Use a for loop to print the number 5 three times.\n",
    "\n",
    "\n",
    "8. Create a for loop to print \"Hello\" four times.\n",
    "\n",
    "\n",
    "9. Write a for loop to print the numbers 1, 2, 3 using range.\n",
    "\n",
    "\n",
    "10. Write a for loop that just prints \"Loop is running!\" three times.\n",
    "\n",
    "\n",
    "11. Create a for loop that doesn't print anything but runs 5 times using range(5).\n",
    "\n",
    "\n",
    "12. Print all the numbers from 10 to 1 in descending order using a for loop.\n",
    "\n",
    "\n",
    "13. Given a list of numbers, write a for loop to print each number in the list.\n",
    "\n",
    "\n",
    "14. Write a for loop to print each character in a given string.\n",
    "\n",
    "\n",
    "15. Use a for loop to convert each character of \"hello\" to uppercase.\n",
    "\n",
    "\n",
    "16. Write a program to print your name 5 times using a for loop."
   ]
  },
  {
   "cell_type": "code",
   "execution_count": 19,
   "metadata": {},
   "outputs": [
    {
     "name": "stdout",
     "output_type": "stream",
     "text": [
      "0\n",
      "1\n",
      "2\n",
      "3\n",
      "4\n"
     ]
    }
   ],
   "source": [
    "#01\n",
    "for numbers in range(5):\n",
    "    print(numbers)"
   ]
  },
  {
   "cell_type": "code",
   "execution_count": 20,
   "metadata": {},
   "outputs": [
    {
     "name": "stdout",
     "output_type": "stream",
     "text": [
      "1\n",
      "2\n",
      "3\n",
      "4\n",
      "5\n"
     ]
    }
   ],
   "source": [
    "#02\n",
    "numbers=[1,2,3,4,5]\n",
    "for item in numbers:\n",
    "    print(item)"
   ]
  },
  {
   "cell_type": "code",
   "execution_count": 23,
   "metadata": {},
   "outputs": [
    {
     "name": "stdout",
     "output_type": "stream",
     "text": [
      "0\n",
      "2\n",
      "4\n",
      "6\n",
      "8\n",
      "10\n"
     ]
    }
   ],
   "source": [
    "#03\n",
    "for numbers in range(0,11,2):  #printing even numbers using range(start value,end value,step).\n",
    "    print(numbers)"
   ]
  },
  {
   "cell_type": "code",
   "execution_count": 24,
   "metadata": {},
   "outputs": [
    {
     "name": "stdout",
     "output_type": "stream",
     "text": [
      "3\n",
      "4\n",
      "5\n",
      "6\n",
      "7\n",
      "8\n"
     ]
    }
   ],
   "source": [
    "#04\n",
    "for numbers in range(3,9):\n",
    "    print(numbers)\n"
   ]
  },
  {
   "cell_type": "code",
   "execution_count": 29,
   "metadata": {},
   "outputs": [
    {
     "name": "stdout",
     "output_type": "stream",
     "text": [
      "1. python is fun!\n",
      "2. python is fun!\n",
      "3. python is fun!\n",
      "4. python is fun!\n",
      "5. python is fun!\n"
     ]
    }
   ],
   "source": [
    "#05\n",
    "for numbers in range(1,6):\n",
    "    print(f\"{numbers}. python is fun!\")"
   ]
  },
  {
   "cell_type": "code",
   "execution_count": 35,
   "metadata": {},
   "outputs": [
    {
     "name": "stdout",
     "output_type": "stream",
     "text": [
      "0\n",
      "1\n",
      "2\n"
     ]
    }
   ],
   "source": [
    "#06\n",
    "numbers=[0,1,2]\n",
    "for item in numbers:\n",
    "    print(item)"
   ]
  },
  {
   "cell_type": "code",
   "execution_count": 1,
   "metadata": {},
   "outputs": [
    {
     "name": "stdout",
     "output_type": "stream",
     "text": [
      "5\n",
      "5\n",
      "5\n"
     ]
    }
   ],
   "source": [
    "#07\n",
    "for number in range(3):\n",
    "    print(5)"
   ]
  },
  {
   "cell_type": "code",
   "execution_count": 69,
   "metadata": {},
   "outputs": [
    {
     "name": "stdout",
     "output_type": "stream",
     "text": [
      "1. Hello\n",
      "2. Hello\n",
      "3. Hello\n",
      "4. Hello\n"
     ]
    }
   ],
   "source": [
    "#08\n",
    "for number in range(1,5):\n",
    "    print(f\"{number}. Hello\")"
   ]
  },
  {
   "cell_type": "code",
   "execution_count": 70,
   "metadata": {},
   "outputs": [
    {
     "name": "stdout",
     "output_type": "stream",
     "text": [
      "1\n",
      "2\n",
      "3\n"
     ]
    }
   ],
   "source": [
    "#09\n",
    "for number in range(1,4):\n",
    "    print(number)"
   ]
  },
  {
   "cell_type": "code",
   "execution_count": 78,
   "metadata": {},
   "outputs": [
    {
     "name": "stdout",
     "output_type": "stream",
     "text": [
      "1.Loop is running!\n",
      "2.Loop is running!\n",
      "3.Loop is running!\n"
     ]
    }
   ],
   "source": [
    "#10\n",
    "for number in range(1,4):\n",
    "    \n",
    "    print(f\"{number}.Loop is running!\")\n"
   ]
  },
  {
   "cell_type": "code",
   "execution_count": 81,
   "metadata": {},
   "outputs": [
    {
     "name": "stdout",
     "output_type": "stream",
     "text": [
      "\n",
      "\n",
      "\n",
      "\n",
      "\n"
     ]
    }
   ],
   "source": [
    "#11\n",
    "for number in range(5):\n",
    "    print(\"\")\n"
   ]
  },
  {
   "cell_type": "code",
   "execution_count": 84,
   "metadata": {},
   "outputs": [
    {
     "name": "stdout",
     "output_type": "stream",
     "text": [
      "10\n",
      "9\n",
      "8\n",
      "7\n",
      "6\n",
      "5\n",
      "4\n",
      "3\n",
      "2\n",
      "1\n"
     ]
    }
   ],
   "source": [
    "#12\n",
    "for num in range(10,0,-1):\n",
    "    print(num)"
   ]
  },
  {
   "cell_type": "code",
   "execution_count": 88,
   "metadata": {},
   "outputs": [
    {
     "name": "stdout",
     "output_type": "stream",
     "text": [
      "5\n",
      "10\n",
      "15\n",
      "20\n",
      "25\n",
      "30\n"
     ]
    }
   ],
   "source": [
    "#13\n",
    "List=[5,10,15,20,25,30]\n",
    "for items in range(5,35,+5):\n",
    "    print(items)"
   ]
  },
  {
   "cell_type": "code",
   "execution_count": 93,
   "metadata": {},
   "outputs": [
    {
     "name": "stdout",
     "output_type": "stream",
     "text": [
      "N\n",
      "i\n",
      "k\n",
      "h\n",
      "i\n",
      "l\n"
     ]
    }
   ],
   "source": [
    "#14\n",
    "str1=\"Nikhil\"\n",
    "for char in str1:\n",
    "    print(char)"
   ]
  },
  {
   "cell_type": "code",
   "execution_count": 94,
   "metadata": {},
   "outputs": [
    {
     "name": "stdout",
     "output_type": "stream",
     "text": [
      "H\n",
      "E\n",
      "L\n",
      "L\n",
      "O\n"
     ]
    }
   ],
   "source": [
    "#15\n",
    "str2=\"hello\"\n",
    "for char in str2:\n",
    "    print(char.upper())\n"
   ]
  },
  {
   "cell_type": "code",
   "execution_count": 96,
   "metadata": {},
   "outputs": [
    {
     "name": "stdout",
     "output_type": "stream",
     "text": [
      "1.NIKHIL\n",
      "2.NIKHIL\n",
      "3.NIKHIL\n",
      "4.NIKHIL\n",
      "5.NIKHIL\n"
     ]
    }
   ],
   "source": [
    "#16\n",
    "for number in range(1,6):\n",
    "    print(f\"{number}.NIKHIL\")"
   ]
  }
 ],
 "metadata": {
  "kernelspec": {
   "display_name": "Python 3",
   "language": "python",
   "name": "python3"
  },
  "language_info": {
   "codemirror_mode": {
    "name": "ipython",
    "version": 3
   },
   "file_extension": ".py",
   "mimetype": "text/x-python",
   "name": "python",
   "nbconvert_exporter": "python",
   "pygments_lexer": "ipython3",
   "version": "3.11.5"
  }
 },
 "nbformat": 4,
 "nbformat_minor": 2
}
